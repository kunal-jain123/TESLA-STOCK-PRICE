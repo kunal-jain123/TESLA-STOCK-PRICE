{
  "nbformat": 4,
  "nbformat_minor": 0,
  "metadata": {
    "colab": {
      "name": "TESLA STOCK PRICE PREDICTION.ipynb",
      "provenance": [],
      "authorship_tag": "ABX9TyNca85kwAhbLKvg0iYQDpVc",
      "include_colab_link": true
    },
    "kernelspec": {
      "name": "python3",
      "display_name": "Python 3"
    },
    "language_info": {
      "name": "python"
    }
  },
  "cells": [
    {
      "cell_type": "markdown",
      "metadata": {
        "id": "view-in-github",
        "colab_type": "text"
      },
      "source": [
        "<a href=\"https://colab.research.google.com/github/kunal-jain123/TESLA-STOCK-PRICE/blob/main/TESLA_STOCK_PRICE_PREDICTION.ipynb\" target=\"_parent\"><img src=\"https://colab.research.google.com/assets/colab-badge.svg\" alt=\"Open In Colab\"/></a>"
      ]
    },
    {
      "cell_type": "code",
      "execution_count": 1,
      "metadata": {
        "id": "-78oVjNew9_A"
      },
      "outputs": [],
      "source": [
        "from google.colab import drive"
      ]
    },
    {
      "cell_type": "code",
      "source": [
        "drive.mount(\"/content/drive\")"
      ],
      "metadata": {
        "colab": {
          "base_uri": "https://localhost:8080/"
        },
        "id": "YoV1PXODxFbZ",
        "outputId": "f6ae2913-c957-4934-cac3-9e400ea56057"
      },
      "execution_count": 2,
      "outputs": [
        {
          "output_type": "stream",
          "name": "stdout",
          "text": [
            "Mounted at /content/drive\n"
          ]
        }
      ]
    },
    {
      "cell_type": "code",
      "source": [
        "import pandas as pd\n",
        "import numpy as np"
      ],
      "metadata": {
        "id": "4hXB-gZGxI-2"
      },
      "execution_count": 15,
      "outputs": []
    },
    {
      "cell_type": "code",
      "source": [
        "data = pd.read_csv(\"/content/drive/MyDrive/TESLA DATA/TSLA.csv\")"
      ],
      "metadata": {
        "id": "LF7otSeOxQgs"
      },
      "execution_count": 4,
      "outputs": []
    },
    {
      "cell_type": "code",
      "source": [
        "data.head()"
      ],
      "metadata": {
        "colab": {
          "base_uri": "https://localhost:8080/",
          "height": 206
        },
        "id": "PcclomzMxaE8",
        "outputId": "4c55544f-caf3-4a55-d924-31276fb9a5c7"
      },
      "execution_count": 5,
      "outputs": [
        {
          "output_type": "execute_result",
          "data": {
            "text/plain": [
              "         Date   Open   High    Low  Close  Adj Close    Volume\n",
              "0  2010-07-01  5.000  5.184  4.054  4.392      4.392  41094000\n",
              "1  2010-07-02  4.600  4.620  3.742  3.840      3.840  25699000\n",
              "2  2010-07-06  4.000  4.000  3.166  3.222      3.222  34334500\n",
              "3  2010-07-07  3.280  3.326  2.996  3.160      3.160  34608500\n",
              "4  2010-07-08  3.228  3.504  3.114  3.492      3.492  38557000"
            ],
            "text/html": [
              "\n",
              "  <div id=\"df-31163695-d266-4fa9-b709-b2e6f313d4a7\">\n",
              "    <div class=\"colab-df-container\">\n",
              "      <div>\n",
              "<style scoped>\n",
              "    .dataframe tbody tr th:only-of-type {\n",
              "        vertical-align: middle;\n",
              "    }\n",
              "\n",
              "    .dataframe tbody tr th {\n",
              "        vertical-align: top;\n",
              "    }\n",
              "\n",
              "    .dataframe thead th {\n",
              "        text-align: right;\n",
              "    }\n",
              "</style>\n",
              "<table border=\"1\" class=\"dataframe\">\n",
              "  <thead>\n",
              "    <tr style=\"text-align: right;\">\n",
              "      <th></th>\n",
              "      <th>Date</th>\n",
              "      <th>Open</th>\n",
              "      <th>High</th>\n",
              "      <th>Low</th>\n",
              "      <th>Close</th>\n",
              "      <th>Adj Close</th>\n",
              "      <th>Volume</th>\n",
              "    </tr>\n",
              "  </thead>\n",
              "  <tbody>\n",
              "    <tr>\n",
              "      <th>0</th>\n",
              "      <td>2010-07-01</td>\n",
              "      <td>5.000</td>\n",
              "      <td>5.184</td>\n",
              "      <td>4.054</td>\n",
              "      <td>4.392</td>\n",
              "      <td>4.392</td>\n",
              "      <td>41094000</td>\n",
              "    </tr>\n",
              "    <tr>\n",
              "      <th>1</th>\n",
              "      <td>2010-07-02</td>\n",
              "      <td>4.600</td>\n",
              "      <td>4.620</td>\n",
              "      <td>3.742</td>\n",
              "      <td>3.840</td>\n",
              "      <td>3.840</td>\n",
              "      <td>25699000</td>\n",
              "    </tr>\n",
              "    <tr>\n",
              "      <th>2</th>\n",
              "      <td>2010-07-06</td>\n",
              "      <td>4.000</td>\n",
              "      <td>4.000</td>\n",
              "      <td>3.166</td>\n",
              "      <td>3.222</td>\n",
              "      <td>3.222</td>\n",
              "      <td>34334500</td>\n",
              "    </tr>\n",
              "    <tr>\n",
              "      <th>3</th>\n",
              "      <td>2010-07-07</td>\n",
              "      <td>3.280</td>\n",
              "      <td>3.326</td>\n",
              "      <td>2.996</td>\n",
              "      <td>3.160</td>\n",
              "      <td>3.160</td>\n",
              "      <td>34608500</td>\n",
              "    </tr>\n",
              "    <tr>\n",
              "      <th>4</th>\n",
              "      <td>2010-07-08</td>\n",
              "      <td>3.228</td>\n",
              "      <td>3.504</td>\n",
              "      <td>3.114</td>\n",
              "      <td>3.492</td>\n",
              "      <td>3.492</td>\n",
              "      <td>38557000</td>\n",
              "    </tr>\n",
              "  </tbody>\n",
              "</table>\n",
              "</div>\n",
              "      <button class=\"colab-df-convert\" onclick=\"convertToInteractive('df-31163695-d266-4fa9-b709-b2e6f313d4a7')\"\n",
              "              title=\"Convert this dataframe to an interactive table.\"\n",
              "              style=\"display:none;\">\n",
              "        \n",
              "  <svg xmlns=\"http://www.w3.org/2000/svg\" height=\"24px\"viewBox=\"0 0 24 24\"\n",
              "       width=\"24px\">\n",
              "    <path d=\"M0 0h24v24H0V0z\" fill=\"none\"/>\n",
              "    <path d=\"M18.56 5.44l.94 2.06.94-2.06 2.06-.94-2.06-.94-.94-2.06-.94 2.06-2.06.94zm-11 1L8.5 8.5l.94-2.06 2.06-.94-2.06-.94L8.5 2.5l-.94 2.06-2.06.94zm10 10l.94 2.06.94-2.06 2.06-.94-2.06-.94-.94-2.06-.94 2.06-2.06.94z\"/><path d=\"M17.41 7.96l-1.37-1.37c-.4-.4-.92-.59-1.43-.59-.52 0-1.04.2-1.43.59L10.3 9.45l-7.72 7.72c-.78.78-.78 2.05 0 2.83L4 21.41c.39.39.9.59 1.41.59.51 0 1.02-.2 1.41-.59l7.78-7.78 2.81-2.81c.8-.78.8-2.07 0-2.86zM5.41 20L4 18.59l7.72-7.72 1.47 1.35L5.41 20z\"/>\n",
              "  </svg>\n",
              "      </button>\n",
              "      \n",
              "  <style>\n",
              "    .colab-df-container {\n",
              "      display:flex;\n",
              "      flex-wrap:wrap;\n",
              "      gap: 12px;\n",
              "    }\n",
              "\n",
              "    .colab-df-convert {\n",
              "      background-color: #E8F0FE;\n",
              "      border: none;\n",
              "      border-radius: 50%;\n",
              "      cursor: pointer;\n",
              "      display: none;\n",
              "      fill: #1967D2;\n",
              "      height: 32px;\n",
              "      padding: 0 0 0 0;\n",
              "      width: 32px;\n",
              "    }\n",
              "\n",
              "    .colab-df-convert:hover {\n",
              "      background-color: #E2EBFA;\n",
              "      box-shadow: 0px 1px 2px rgba(60, 64, 67, 0.3), 0px 1px 3px 1px rgba(60, 64, 67, 0.15);\n",
              "      fill: #174EA6;\n",
              "    }\n",
              "\n",
              "    [theme=dark] .colab-df-convert {\n",
              "      background-color: #3B4455;\n",
              "      fill: #D2E3FC;\n",
              "    }\n",
              "\n",
              "    [theme=dark] .colab-df-convert:hover {\n",
              "      background-color: #434B5C;\n",
              "      box-shadow: 0px 1px 3px 1px rgba(0, 0, 0, 0.15);\n",
              "      filter: drop-shadow(0px 1px 2px rgba(0, 0, 0, 0.3));\n",
              "      fill: #FFFFFF;\n",
              "    }\n",
              "  </style>\n",
              "\n",
              "      <script>\n",
              "        const buttonEl =\n",
              "          document.querySelector('#df-31163695-d266-4fa9-b709-b2e6f313d4a7 button.colab-df-convert');\n",
              "        buttonEl.style.display =\n",
              "          google.colab.kernel.accessAllowed ? 'block' : 'none';\n",
              "\n",
              "        async function convertToInteractive(key) {\n",
              "          const element = document.querySelector('#df-31163695-d266-4fa9-b709-b2e6f313d4a7');\n",
              "          const dataTable =\n",
              "            await google.colab.kernel.invokeFunction('convertToInteractive',\n",
              "                                                     [key], {});\n",
              "          if (!dataTable) return;\n",
              "\n",
              "          const docLinkHtml = 'Like what you see? Visit the ' +\n",
              "            '<a target=\"_blank\" href=https://colab.research.google.com/notebooks/data_table.ipynb>data table notebook</a>'\n",
              "            + ' to learn more about interactive tables.';\n",
              "          element.innerHTML = '';\n",
              "          dataTable['output_type'] = 'display_data';\n",
              "          await google.colab.output.renderOutput(dataTable, element);\n",
              "          const docLink = document.createElement('div');\n",
              "          docLink.innerHTML = docLinkHtml;\n",
              "          element.appendChild(docLink);\n",
              "        }\n",
              "      </script>\n",
              "    </div>\n",
              "  </div>\n",
              "  "
            ]
          },
          "metadata": {},
          "execution_count": 5
        }
      ]
    },
    {
      "cell_type": "code",
      "source": [
        "data.tail()"
      ],
      "metadata": {
        "colab": {
          "base_uri": "https://localhost:8080/",
          "height": 206
        },
        "id": "gdyEQ9Cqxb2R",
        "outputId": "a3d71bc2-1a94-411a-ac94-5bfd6137e733"
      },
      "execution_count": 6,
      "outputs": [
        {
          "output_type": "execute_result",
          "data": {
            "text/plain": [
              "            Date        Open        High         Low       Close   Adj Close  \\\n",
              "2838  2021-10-08  796.210022  796.380005  780.909973  785.489990  785.489990   \n",
              "2839  2021-10-11  787.650024  801.239990  785.500000  791.940002  791.940002   \n",
              "2840  2021-10-12  800.929993  812.320007  796.570007  805.719971  805.719971   \n",
              "2841  2021-10-13  810.469971  815.409973  805.780029  811.080017  811.080017   \n",
              "2842  2021-10-14  815.489990  820.250000  813.349976  818.320007  818.320007   \n",
              "\n",
              "        Volume  \n",
              "2838  16711100  \n",
              "2839  14200300  \n",
              "2840  22020000  \n",
              "2841  14120100  \n",
              "2842  12203200  "
            ],
            "text/html": [
              "\n",
              "  <div id=\"df-acf424ac-e596-4f9c-b63c-bd4e8e4801c9\">\n",
              "    <div class=\"colab-df-container\">\n",
              "      <div>\n",
              "<style scoped>\n",
              "    .dataframe tbody tr th:only-of-type {\n",
              "        vertical-align: middle;\n",
              "    }\n",
              "\n",
              "    .dataframe tbody tr th {\n",
              "        vertical-align: top;\n",
              "    }\n",
              "\n",
              "    .dataframe thead th {\n",
              "        text-align: right;\n",
              "    }\n",
              "</style>\n",
              "<table border=\"1\" class=\"dataframe\">\n",
              "  <thead>\n",
              "    <tr style=\"text-align: right;\">\n",
              "      <th></th>\n",
              "      <th>Date</th>\n",
              "      <th>Open</th>\n",
              "      <th>High</th>\n",
              "      <th>Low</th>\n",
              "      <th>Close</th>\n",
              "      <th>Adj Close</th>\n",
              "      <th>Volume</th>\n",
              "    </tr>\n",
              "  </thead>\n",
              "  <tbody>\n",
              "    <tr>\n",
              "      <th>2838</th>\n",
              "      <td>2021-10-08</td>\n",
              "      <td>796.210022</td>\n",
              "      <td>796.380005</td>\n",
              "      <td>780.909973</td>\n",
              "      <td>785.489990</td>\n",
              "      <td>785.489990</td>\n",
              "      <td>16711100</td>\n",
              "    </tr>\n",
              "    <tr>\n",
              "      <th>2839</th>\n",
              "      <td>2021-10-11</td>\n",
              "      <td>787.650024</td>\n",
              "      <td>801.239990</td>\n",
              "      <td>785.500000</td>\n",
              "      <td>791.940002</td>\n",
              "      <td>791.940002</td>\n",
              "      <td>14200300</td>\n",
              "    </tr>\n",
              "    <tr>\n",
              "      <th>2840</th>\n",
              "      <td>2021-10-12</td>\n",
              "      <td>800.929993</td>\n",
              "      <td>812.320007</td>\n",
              "      <td>796.570007</td>\n",
              "      <td>805.719971</td>\n",
              "      <td>805.719971</td>\n",
              "      <td>22020000</td>\n",
              "    </tr>\n",
              "    <tr>\n",
              "      <th>2841</th>\n",
              "      <td>2021-10-13</td>\n",
              "      <td>810.469971</td>\n",
              "      <td>815.409973</td>\n",
              "      <td>805.780029</td>\n",
              "      <td>811.080017</td>\n",
              "      <td>811.080017</td>\n",
              "      <td>14120100</td>\n",
              "    </tr>\n",
              "    <tr>\n",
              "      <th>2842</th>\n",
              "      <td>2021-10-14</td>\n",
              "      <td>815.489990</td>\n",
              "      <td>820.250000</td>\n",
              "      <td>813.349976</td>\n",
              "      <td>818.320007</td>\n",
              "      <td>818.320007</td>\n",
              "      <td>12203200</td>\n",
              "    </tr>\n",
              "  </tbody>\n",
              "</table>\n",
              "</div>\n",
              "      <button class=\"colab-df-convert\" onclick=\"convertToInteractive('df-acf424ac-e596-4f9c-b63c-bd4e8e4801c9')\"\n",
              "              title=\"Convert this dataframe to an interactive table.\"\n",
              "              style=\"display:none;\">\n",
              "        \n",
              "  <svg xmlns=\"http://www.w3.org/2000/svg\" height=\"24px\"viewBox=\"0 0 24 24\"\n",
              "       width=\"24px\">\n",
              "    <path d=\"M0 0h24v24H0V0z\" fill=\"none\"/>\n",
              "    <path d=\"M18.56 5.44l.94 2.06.94-2.06 2.06-.94-2.06-.94-.94-2.06-.94 2.06-2.06.94zm-11 1L8.5 8.5l.94-2.06 2.06-.94-2.06-.94L8.5 2.5l-.94 2.06-2.06.94zm10 10l.94 2.06.94-2.06 2.06-.94-2.06-.94-.94-2.06-.94 2.06-2.06.94z\"/><path d=\"M17.41 7.96l-1.37-1.37c-.4-.4-.92-.59-1.43-.59-.52 0-1.04.2-1.43.59L10.3 9.45l-7.72 7.72c-.78.78-.78 2.05 0 2.83L4 21.41c.39.39.9.59 1.41.59.51 0 1.02-.2 1.41-.59l7.78-7.78 2.81-2.81c.8-.78.8-2.07 0-2.86zM5.41 20L4 18.59l7.72-7.72 1.47 1.35L5.41 20z\"/>\n",
              "  </svg>\n",
              "      </button>\n",
              "      \n",
              "  <style>\n",
              "    .colab-df-container {\n",
              "      display:flex;\n",
              "      flex-wrap:wrap;\n",
              "      gap: 12px;\n",
              "    }\n",
              "\n",
              "    .colab-df-convert {\n",
              "      background-color: #E8F0FE;\n",
              "      border: none;\n",
              "      border-radius: 50%;\n",
              "      cursor: pointer;\n",
              "      display: none;\n",
              "      fill: #1967D2;\n",
              "      height: 32px;\n",
              "      padding: 0 0 0 0;\n",
              "      width: 32px;\n",
              "    }\n",
              "\n",
              "    .colab-df-convert:hover {\n",
              "      background-color: #E2EBFA;\n",
              "      box-shadow: 0px 1px 2px rgba(60, 64, 67, 0.3), 0px 1px 3px 1px rgba(60, 64, 67, 0.15);\n",
              "      fill: #174EA6;\n",
              "    }\n",
              "\n",
              "    [theme=dark] .colab-df-convert {\n",
              "      background-color: #3B4455;\n",
              "      fill: #D2E3FC;\n",
              "    }\n",
              "\n",
              "    [theme=dark] .colab-df-convert:hover {\n",
              "      background-color: #434B5C;\n",
              "      box-shadow: 0px 1px 3px 1px rgba(0, 0, 0, 0.15);\n",
              "      filter: drop-shadow(0px 1px 2px rgba(0, 0, 0, 0.3));\n",
              "      fill: #FFFFFF;\n",
              "    }\n",
              "  </style>\n",
              "\n",
              "      <script>\n",
              "        const buttonEl =\n",
              "          document.querySelector('#df-acf424ac-e596-4f9c-b63c-bd4e8e4801c9 button.colab-df-convert');\n",
              "        buttonEl.style.display =\n",
              "          google.colab.kernel.accessAllowed ? 'block' : 'none';\n",
              "\n",
              "        async function convertToInteractive(key) {\n",
              "          const element = document.querySelector('#df-acf424ac-e596-4f9c-b63c-bd4e8e4801c9');\n",
              "          const dataTable =\n",
              "            await google.colab.kernel.invokeFunction('convertToInteractive',\n",
              "                                                     [key], {});\n",
              "          if (!dataTable) return;\n",
              "\n",
              "          const docLinkHtml = 'Like what you see? Visit the ' +\n",
              "            '<a target=\"_blank\" href=https://colab.research.google.com/notebooks/data_table.ipynb>data table notebook</a>'\n",
              "            + ' to learn more about interactive tables.';\n",
              "          element.innerHTML = '';\n",
              "          dataTable['output_type'] = 'display_data';\n",
              "          await google.colab.output.renderOutput(dataTable, element);\n",
              "          const docLink = document.createElement('div');\n",
              "          docLink.innerHTML = docLinkHtml;\n",
              "          element.appendChild(docLink);\n",
              "        }\n",
              "      </script>\n",
              "    </div>\n",
              "  </div>\n",
              "  "
            ]
          },
          "metadata": {},
          "execution_count": 6
        }
      ]
    },
    {
      "cell_type": "code",
      "source": [
        "data.info()"
      ],
      "metadata": {
        "id": "HYOgoZajOcKD"
      },
      "execution_count": null,
      "outputs": []
    },
    {
      "cell_type": "code",
      "source": [
        "close = data.reset_index()['Close']"
      ],
      "metadata": {
        "id": "5IbmOjATNkRu"
      },
      "execution_count": 7,
      "outputs": []
    },
    {
      "cell_type": "code",
      "source": [
        "close"
      ],
      "metadata": {
        "colab": {
          "base_uri": "https://localhost:8080/"
        },
        "id": "RzfNFpvyODGs",
        "outputId": "2b191e09-f9f1-4d0f-bb76-8bacd8bc94af"
      },
      "execution_count": 8,
      "outputs": [
        {
          "output_type": "execute_result",
          "data": {
            "text/plain": [
              "0         4.392000\n",
              "1         3.840000\n",
              "2         3.222000\n",
              "3         3.160000\n",
              "4         3.492000\n",
              "           ...    \n",
              "2838    785.489990\n",
              "2839    791.940002\n",
              "2840    805.719971\n",
              "2841    811.080017\n",
              "2842    818.320007\n",
              "Name: Close, Length: 2843, dtype: float64"
            ]
          },
          "metadata": {},
          "execution_count": 8
        }
      ]
    },
    {
      "cell_type": "code",
      "source": [
        "close.shape"
      ],
      "metadata": {
        "colab": {
          "base_uri": "https://localhost:8080/"
        },
        "id": "liRUkmStOE05",
        "outputId": "42c6edec-8f52-4332-eeb2-086a52b8aeba"
      },
      "execution_count": 9,
      "outputs": [
        {
          "output_type": "execute_result",
          "data": {
            "text/plain": [
              "(2843,)"
            ]
          },
          "metadata": {},
          "execution_count": 9
        }
      ]
    },
    {
      "cell_type": "code",
      "source": [
        "import matplotlib.pyplot as plt"
      ],
      "metadata": {
        "id": "Rq8uHmIyOKFs"
      },
      "execution_count": 10,
      "outputs": []
    },
    {
      "cell_type": "code",
      "source": [
        "plt.plot(close)"
      ],
      "metadata": {
        "colab": {
          "base_uri": "https://localhost:8080/",
          "height": 282
        },
        "id": "ClD86X50OQgH",
        "outputId": "5eca5277-704a-4e69-83a7-6719bb0ad35a"
      },
      "execution_count": 11,
      "outputs": [
        {
          "output_type": "execute_result",
          "data": {
            "text/plain": [
              "[<matplotlib.lines.Line2D at 0x7f50b67b9f10>]"
            ]
          },
          "metadata": {},
          "execution_count": 11
        },
        {
          "output_type": "display_data",
          "data": {
            "text/plain": [
              "<Figure size 432x288 with 1 Axes>"
            ],
            "image/png": "[encoded data removed]"
          },
          "metadata": {
            "needs_background": "light"
          }
        }
      ]
    },
    {
      "cell_type": "code",
      "source": [
        "from sklearn.preprocessing import MinMaxScaler\n",
        "scaler = MinMaxScaler(feature_range=(0,1))"
      ],
      "metadata": {
        "id": "Sc5pCiMaOVL5"
      },
      "execution_count": 16,
      "outputs": []
    },
    {
      "cell_type": "code",
      "source": [
        "close1 = scaler.fit_transform(np.array(close).reshape(-1,1))"
      ],
      "metadata": {
        "id": "kj6C7m1jPN4m"
      },
      "execution_count": 17,
      "outputs": []
    },
    {
      "cell_type": "code",
      "source": [
        "close1"
      ],
      "metadata": {
        "colab": {
          "base_uri": "https://localhost:8080/"
        },
        "id": "hiYnb7VCPhVB",
        "outputId": "0b8662cf-42af-475f-c1dc-4f964bbdfdb9"
      },
      "execution_count": 18,
      "outputs": [
        {
          "output_type": "execute_result",
          "data": {
            "text/plain": [
              "array([[1.40011133e-03],\n",
              "       [7.72788721e-04],\n",
              "       [7.04601481e-05],\n",
              "       ...,\n",
              "       [9.12072490e-01],\n",
              "       [9.18163936e-01],\n",
              "       [9.26391852e-01]])"
            ]
          },
          "metadata": {},
          "execution_count": 18
        }
      ]
    },
    {
      "cell_type": "code",
      "source": [
        "close1.shape"
      ],
      "metadata": {
        "colab": {
          "base_uri": "https://localhost:8080/"
        },
        "id": "wi94L01qPiZk",
        "outputId": "d837bb0e-9740-4c42-ab1b-795308f32a4e"
      },
      "execution_count": 19,
      "outputs": [
        {
          "output_type": "execute_result",
          "data": {
            "text/plain": [
              "(2843, 1)"
            ]
          },
          "metadata": {},
          "execution_count": 19
        }
      ]
    },
    {
      "cell_type": "code",
      "source": [
        "training_size = int(len(close1)*0.70)\n",
        "test_size = len(close1)-training_size"
      ],
      "metadata": {
        "id": "GQEawJuMPl5O"
      },
      "execution_count": 21,
      "outputs": []
    },
    {
      "cell_type": "code",
      "source": [
        "train_data,test_data = close1[0:training_size,:],close1[training_size:len(close1),:1]"
      ],
      "metadata": {
        "id": "d3MyFDD5VJfk"
      },
      "execution_count": 22,
      "outputs": []
    },
    {
      "cell_type": "code",
      "source": [
        "train_data"
      ],
      "metadata": {
        "colab": {
          "base_uri": "https://localhost:8080/"
        },
        "id": "hV8H0zuvVlYQ",
        "outputId": "172e3f31-4992-44ca-a87c-1e200fc39606"
      },
      "execution_count": 23,
      "outputs": [
        {
          "output_type": "execute_result",
          "data": {
            "text/plain": [
              "array([[1.40011133e-03],\n",
              "       [7.72788721e-04],\n",
              "       [7.04601481e-05],\n",
              "       ...,\n",
              "       [5.98388478e-02],\n",
              "       [5.95615542e-02],\n",
              "       [5.97888450e-02]])"
            ]
          },
          "metadata": {},
          "execution_count": 23
        }
      ]
    },
    {
      "cell_type": "code",
      "source": [
        "def create_dataset(dataset,time_step=1):\n",
        "  dataX,dataY = [],[]\n",
        "  for i in range(len(dataset)-time_step-1):\n",
        "    a=dataset[i:(i+time_step),0]\n",
        "    dataX.append(a)\n",
        "    dataY.append(dataset[i+time_step,0])\n",
        "  return np.array(dataX),np.array(dataY)"
      ],
      "metadata": {
        "id": "aR5UG0T0VmqK"
      },
      "execution_count": 24,
      "outputs": []
    },
    {
      "cell_type": "code",
      "source": [
        "time_step = 100\n",
        "X_train,y_train = create_dataset(train_data,time_step)"
      ],
      "metadata": {
        "id": "QqPONIoDY1yx"
      },
      "execution_count": 29,
      "outputs": []
    },
    {
      "cell_type": "code",
      "source": [
        "X_train.shape"
      ],
      "metadata": {
        "colab": {
          "base_uri": "https://localhost:8080/"
        },
        "id": "25XudzPZZNsL",
        "outputId": "589091d0-6a95-4ddb-8888-ace483494994"
      },
      "execution_count": 30,
      "outputs": [
        {
          "output_type": "execute_result",
          "data": {
            "text/plain": [
              "(1889, 100)"
            ]
          },
          "metadata": {},
          "execution_count": 30
        }
      ]
    },
    {
      "cell_type": "code",
      "source": [
        "y_train.shape"
      ],
      "metadata": {
        "colab": {
          "base_uri": "https://localhost:8080/"
        },
        "id": "7MlVTMcyZQ4y",
        "outputId": "e2f5b8cc-e12e-4a8c-e5a1-08b04a6eae83"
      },
      "execution_count": 31,
      "outputs": [
        {
          "output_type": "execute_result",
          "data": {
            "text/plain": [
              "(1889,)"
            ]
          },
          "metadata": {},
          "execution_count": 31
        }
      ]
    },
    {
      "cell_type": "code",
      "source": [
        "X_test,y_test = create_dataset(test_data,time_step)"
      ],
      "metadata": {
        "id": "p6IM-zhPZXm2"
      },
      "execution_count": 32,
      "outputs": []
    },
    {
      "cell_type": "code",
      "source": [
        "X_test.shape"
      ],
      "metadata": {
        "colab": {
          "base_uri": "https://localhost:8080/"
        },
        "id": "E3vl6jnCZhlX",
        "outputId": "2595dd74-0f51-4e08-c203-10f6bbaf46de"
      },
      "execution_count": 33,
      "outputs": [
        {
          "output_type": "execute_result",
          "data": {
            "text/plain": [
              "(752, 100)"
            ]
          },
          "metadata": {},
          "execution_count": 33
        }
      ]
    },
    {
      "cell_type": "code",
      "source": [
        "y_test.shape"
      ],
      "metadata": {
        "colab": {
          "base_uri": "https://localhost:8080/"
        },
        "id": "beh6B1liZjA2",
        "outputId": "7ff85fe0-4002-4225-ab47-1ac4aa20e79f"
      },
      "execution_count": 34,
      "outputs": [
        {
          "output_type": "execute_result",
          "data": {
            "text/plain": [
              "(752,)"
            ]
          },
          "metadata": {},
          "execution_count": 34
        }
      ]
    },
    {
      "cell_type": "code",
      "source": [
        "X_train = X_train.reshape(X_train.shape[0],X_train.shape[1],1)\n",
        "X_test = X_test.reshape(X_test.shape[0],X_test.shape[1],1)"
      ],
      "metadata": {
        "id": "G7M2bJalZkN-"
      },
      "execution_count": 35,
      "outputs": []
    },
    {
      "cell_type": "code",
      "source": [
        "from tensorflow.keras.models import Sequential\n",
        "from tensorflow.keras.layers import Dense\n",
        "from tensorflow.keras.layers import LSTM"
      ],
      "metadata": {
        "id": "-SbX62yFgkwH"
      },
      "execution_count": 36,
      "outputs": []
    },
    {
      "cell_type": "code",
      "source": [
        "model = Sequential()\n",
        "model.add(LSTM(50,return_sequences=True,input_shape=(100,1)))\n",
        "model.add(LSTM(50,return_sequences=True))\n",
        "model.add(LSTM(50))\n",
        "model.add(Dense(1))\n",
        "model.compile(loss='mean_squared_error',optimizer='adam')"
      ],
      "metadata": {
        "id": "GBEQwes4g8H3"
      },
      "execution_count": 38,
      "outputs": []
    },
    {
      "cell_type": "code",
      "source": [
        "model.summary()"
      ],
      "metadata": {
        "colab": {
          "base_uri": "https://localhost:8080/"
        },
        "id": "8grdVX3iltBo",
        "outputId": "d5035df1-8dae-495b-c6f4-4506a94ea331"
      },
      "execution_count": 39,
      "outputs": [
        {
          "output_type": "stream",
          "name": "stdout",
          "text": [
            "Model: \"sequential_1\"\n",
            "_________________________________________________________________\n",
            " Layer (type)                Output Shape              Param #   \n",
            "=================================================================\n",
            " lstm (LSTM)                 (None, 100, 50)           10400     \n",
            "                                                                 \n",
            " lstm_1 (LSTM)               (None, 100, 50)           20200     \n",
            "                                                                 \n",
            " lstm_2 (LSTM)               (None, 50)                20200     \n",
            "                                                                 \n",
            " dense (Dense)               (None, 1)                 51        \n",
            "                                                                 \n",
            "=================================================================\n",
            "Total params: 50,851\n",
            "Trainable params: 50,851\n",
            "Non-trainable params: 0\n",
            "_________________________________________________________________\n"
          ]
        }
      ]
    },
    {
      "cell_type": "code",
      "source": [
        "model.fit(X_train,y_train,validation_data=(X_test,y_test),epochs=200,batch_size=64,verbose=1)"
      ],
      "metadata": {
        "colab": {
          "base_uri": "https://localhost:8080/"
        },
        "id": "zKyqo9T6nB4f",
        "outputId": "3c4bdd83-b598-4739-d285-f19d93537656"
      },
      "execution_count": 52,
      "outputs": [
        {
          "output_type": "stream",
          "name": "stdout",
          "text": [
            "Epoch 1/200\n",
            "30/30 [==============================] - 8s 259ms/step - loss: 3.0535e-06 - val_loss: 0.0063\n",
            "Epoch 2/200\n",
            "30/30 [==============================] - 6s 203ms/step - loss: 3.1645e-06 - val_loss: 0.0056\n",
            "Epoch 3/200\n",
            "30/30 [==============================] - 6s 203ms/step - loss: 3.7957e-06 - val_loss: 0.0052\n",
            "Epoch 4/200\n",
            "30/30 [==============================] - 6s 205ms/step - loss: 2.8479e-06 - val_loss: 0.0055\n",
            "Epoch 5/200\n",
            "30/30 [==============================] - 6s 204ms/step - loss: 3.0385e-06 - val_loss: 0.0050\n",
            "Epoch 6/200\n",
            "30/30 [==============================] - 6s 208ms/step - loss: 3.8087e-06 - val_loss: 0.0051\n",
            "Epoch 7/200\n",
            "30/30 [==============================] - 6s 197ms/step - loss: 2.7861e-06 - val_loss: 0.0055\n",
            "Epoch 8/200\n",
            "30/30 [==============================] - 6s 198ms/step - loss: 2.8903e-06 - val_loss: 0.0065\n",
            "Epoch 9/200\n",
            "30/30 [==============================] - 6s 210ms/step - loss: 2.9274e-06 - val_loss: 0.0053\n",
            "Epoch 10/200\n",
            "30/30 [==============================] - 6s 200ms/step - loss: 2.8165e-06 - val_loss: 0.0048\n",
            "Epoch 11/200\n",
            "30/30 [==============================] - 6s 194ms/step - loss: 2.9130e-06 - val_loss: 0.0044\n",
            "Epoch 12/200\n",
            "30/30 [==============================] - 6s 202ms/step - loss: 2.8819e-06 - val_loss: 0.0048\n",
            "Epoch 13/200\n",
            "30/30 [==============================] - 6s 201ms/step - loss: 3.0096e-06 - val_loss: 0.0044\n",
            "Epoch 14/200\n",
            "30/30 [==============================] - 6s 209ms/step - loss: 2.9425e-06 - val_loss: 0.0052\n",
            "Epoch 15/200\n",
            "30/30 [==============================] - 6s 216ms/step - loss: 2.9723e-06 - val_loss: 0.0051\n",
            "Epoch 16/200\n",
            "30/30 [==============================] - 6s 196ms/step - loss: 2.6129e-06 - val_loss: 0.0047\n",
            "Epoch 17/200\n",
            "30/30 [==============================] - 6s 201ms/step - loss: 3.0151e-06 - val_loss: 0.0041\n",
            "Epoch 18/200\n",
            "30/30 [==============================] - 6s 207ms/step - loss: 3.1922e-06 - val_loss: 0.0055\n",
            "Epoch 19/200\n",
            "30/30 [==============================] - 6s 210ms/step - loss: 3.6144e-06 - val_loss: 0.0064\n",
            "Epoch 20/200\n",
            "30/30 [==============================] - 6s 209ms/step - loss: 2.9584e-06 - val_loss: 0.0049\n",
            "Epoch 21/200\n",
            "30/30 [==============================] - 6s 202ms/step - loss: 2.7754e-06 - val_loss: 0.0044\n",
            "Epoch 22/200\n",
            "30/30 [==============================] - 6s 207ms/step - loss: 3.2688e-06 - val_loss: 0.0031\n",
            "Epoch 23/200\n",
            "30/30 [==============================] - 6s 214ms/step - loss: 3.3585e-06 - val_loss: 0.0042\n",
            "Epoch 24/200\n",
            "30/30 [==============================] - 6s 209ms/step - loss: 2.4805e-06 - val_loss: 0.0045\n",
            "Epoch 25/200\n",
            "30/30 [==============================] - 6s 194ms/step - loss: 3.1815e-06 - val_loss: 0.0046\n",
            "Epoch 26/200\n",
            "30/30 [==============================] - 6s 194ms/step - loss: 3.0130e-06 - val_loss: 0.0043\n",
            "Epoch 27/200\n",
            "30/30 [==============================] - 6s 208ms/step - loss: 3.1927e-06 - val_loss: 0.0047\n",
            "Epoch 28/200\n",
            "30/30 [==============================] - 6s 197ms/step - loss: 2.6388e-06 - val_loss: 0.0053\n",
            "Epoch 29/200\n",
            "30/30 [==============================] - 6s 206ms/step - loss: 2.6428e-06 - val_loss: 0.0043\n",
            "Epoch 30/200\n",
            "30/30 [==============================] - 6s 206ms/step - loss: 2.3823e-06 - val_loss: 0.0038\n",
            "Epoch 31/200\n",
            "30/30 [==============================] - 6s 199ms/step - loss: 2.2128e-06 - val_loss: 0.0038\n",
            "Epoch 32/200\n",
            "30/30 [==============================] - 6s 217ms/step - loss: 2.2259e-06 - val_loss: 0.0043\n",
            "Epoch 33/200\n",
            "30/30 [==============================] - 6s 212ms/step - loss: 2.7722e-06 - val_loss: 0.0046\n",
            "Epoch 34/200\n",
            "30/30 [==============================] - 6s 203ms/step - loss: 2.4104e-06 - val_loss: 0.0040\n",
            "Epoch 35/200\n",
            "30/30 [==============================] - 6s 205ms/step - loss: 2.1254e-06 - val_loss: 0.0038\n",
            "Epoch 36/200\n",
            "30/30 [==============================] - 6s 201ms/step - loss: 2.2402e-06 - val_loss: 0.0033\n",
            "Epoch 37/200\n",
            "30/30 [==============================] - 6s 205ms/step - loss: 2.4715e-06 - val_loss: 0.0035\n",
            "Epoch 38/200\n",
            "30/30 [==============================] - 6s 215ms/step - loss: 2.4940e-06 - val_loss: 0.0039\n",
            "Epoch 39/200\n",
            "30/30 [==============================] - 6s 201ms/step - loss: 2.4863e-06 - val_loss: 0.0038\n",
            "Epoch 40/200\n",
            "30/30 [==============================] - 6s 197ms/step - loss: 2.2631e-06 - val_loss: 0.0033\n",
            "Epoch 41/200\n",
            "30/30 [==============================] - 6s 197ms/step - loss: 2.0866e-06 - val_loss: 0.0029\n",
            "Epoch 42/200\n",
            "30/30 [==============================] - 6s 208ms/step - loss: 2.5832e-06 - val_loss: 0.0039\n",
            "Epoch 43/200\n",
            "30/30 [==============================] - 6s 196ms/step - loss: 2.2446e-06 - val_loss: 0.0035\n",
            "Epoch 44/200\n",
            "30/30 [==============================] - 6s 215ms/step - loss: 2.4083e-06 - val_loss: 0.0033\n",
            "Epoch 45/200\n",
            "30/30 [==============================] - 6s 206ms/step - loss: 2.4096e-06 - val_loss: 0.0038\n",
            "Epoch 46/200\n",
            "30/30 [==============================] - 6s 205ms/step - loss: 1.9609e-06 - val_loss: 0.0036\n",
            "Epoch 47/200\n",
            "30/30 [==============================] - 6s 211ms/step - loss: 2.4204e-06 - val_loss: 0.0038\n",
            "Epoch 48/200\n",
            "30/30 [==============================] - 6s 203ms/step - loss: 2.3021e-06 - val_loss: 0.0023\n",
            "Epoch 49/200\n",
            "30/30 [==============================] - 6s 196ms/step - loss: 1.9885e-06 - val_loss: 0.0024\n",
            "Epoch 50/200\n",
            "30/30 [==============================] - 6s 197ms/step - loss: 1.9938e-06 - val_loss: 0.0031\n",
            "Epoch 51/200\n",
            "30/30 [==============================] - 6s 213ms/step - loss: 2.1348e-06 - val_loss: 0.0026\n",
            "Epoch 52/200\n",
            "30/30 [==============================] - 6s 198ms/step - loss: 2.7179e-06 - val_loss: 0.0025\n",
            "Epoch 53/200\n",
            "30/30 [==============================] - 6s 196ms/step - loss: 2.1554e-06 - val_loss: 0.0030\n",
            "Epoch 54/200\n",
            "30/30 [==============================] - 6s 195ms/step - loss: 1.8529e-06 - val_loss: 0.0027\n",
            "Epoch 55/200\n",
            "30/30 [==============================] - 6s 199ms/step - loss: 1.8732e-06 - val_loss: 0.0035\n",
            "Epoch 56/200\n",
            "30/30 [==============================] - 6s 200ms/step - loss: 1.9301e-06 - val_loss: 0.0027\n",
            "Epoch 57/200\n",
            "30/30 [==============================] - 6s 213ms/step - loss: 1.8541e-06 - val_loss: 0.0026\n",
            "Epoch 58/200\n",
            "30/30 [==============================] - 6s 214ms/step - loss: 2.0261e-06 - val_loss: 0.0029\n",
            "Epoch 59/200\n",
            "30/30 [==============================] - 6s 207ms/step - loss: 1.9251e-06 - val_loss: 0.0030\n",
            "Epoch 60/200\n",
            "30/30 [==============================] - 6s 193ms/step - loss: 1.7785e-06 - val_loss: 0.0028\n",
            "Epoch 61/200\n",
            "30/30 [==============================] - 6s 203ms/step - loss: 1.8176e-06 - val_loss: 0.0023\n",
            "Epoch 62/200\n",
            "30/30 [==============================] - 6s 203ms/step - loss: 1.8644e-06 - val_loss: 0.0030\n",
            "Epoch 63/200\n",
            "30/30 [==============================] - 6s 202ms/step - loss: 1.9997e-06 - val_loss: 0.0023\n",
            "Epoch 64/200\n",
            "30/30 [==============================] - 6s 207ms/step - loss: 1.8210e-06 - val_loss: 0.0029\n",
            "Epoch 65/200\n",
            "30/30 [==============================] - 6s 213ms/step - loss: 1.8526e-06 - val_loss: 0.0028\n",
            "Epoch 66/200\n",
            "30/30 [==============================] - 6s 207ms/step - loss: 1.7058e-06 - val_loss: 0.0023\n",
            "Epoch 67/200\n",
            "30/30 [==============================] - 6s 209ms/step - loss: 1.7968e-06 - val_loss: 0.0022\n",
            "Epoch 68/200\n",
            "30/30 [==============================] - 6s 199ms/step - loss: 1.9979e-06 - val_loss: 0.0022\n",
            "Epoch 69/200\n",
            "30/30 [==============================] - 6s 213ms/step - loss: 2.3429e-06 - val_loss: 0.0037\n",
            "Epoch 70/200\n",
            "30/30 [==============================] - 6s 207ms/step - loss: 1.8832e-06 - val_loss: 0.0028\n",
            "Epoch 71/200\n",
            "30/30 [==============================] - 6s 193ms/step - loss: 1.7374e-06 - val_loss: 0.0029\n",
            "Epoch 72/200\n",
            "30/30 [==============================] - 6s 206ms/step - loss: 1.9837e-06 - val_loss: 0.0025\n",
            "Epoch 73/200\n",
            "30/30 [==============================] - 6s 196ms/step - loss: 1.9412e-06 - val_loss: 0.0026\n",
            "Epoch 74/200\n",
            "30/30 [==============================] - 6s 204ms/step - loss: 1.8779e-06 - val_loss: 0.0026\n",
            "Epoch 75/200\n",
            "30/30 [==============================] - 6s 208ms/step - loss: 1.9729e-06 - val_loss: 0.0028\n",
            "Epoch 76/200\n",
            "30/30 [==============================] - 6s 207ms/step - loss: 1.9134e-06 - val_loss: 0.0027\n",
            "Epoch 77/200\n",
            "30/30 [==============================] - 6s 202ms/step - loss: 1.6907e-06 - val_loss: 0.0024\n",
            "Epoch 78/200\n",
            "30/30 [==============================] - 6s 195ms/step - loss: 1.9539e-06 - val_loss: 0.0017\n",
            "Epoch 79/200\n",
            "30/30 [==============================] - 6s 210ms/step - loss: 1.9399e-06 - val_loss: 0.0021\n",
            "Epoch 80/200\n",
            "30/30 [==============================] - 6s 199ms/step - loss: 2.2021e-06 - val_loss: 0.0027\n",
            "Epoch 81/200\n",
            "30/30 [==============================] - 6s 204ms/step - loss: 1.9701e-06 - val_loss: 0.0026\n",
            "Epoch 82/200\n",
            "30/30 [==============================] - 6s 193ms/step - loss: 1.8397e-06 - val_loss: 0.0027\n",
            "Epoch 83/200\n",
            "30/30 [==============================] - 6s 194ms/step - loss: 1.7831e-06 - val_loss: 0.0022\n",
            "Epoch 84/200\n",
            "30/30 [==============================] - 6s 199ms/step - loss: 1.6452e-06 - val_loss: 0.0022\n",
            "Epoch 85/200\n",
            "30/30 [==============================] - 6s 196ms/step - loss: 2.0349e-06 - val_loss: 0.0019\n",
            "Epoch 86/200\n",
            "30/30 [==============================] - 6s 207ms/step - loss: 2.2697e-06 - val_loss: 0.0028\n",
            "Epoch 87/200\n",
            "30/30 [==============================] - 6s 199ms/step - loss: 1.8693e-06 - val_loss: 0.0032\n",
            "Epoch 88/200\n",
            "30/30 [==============================] - 6s 201ms/step - loss: 2.0098e-06 - val_loss: 0.0027\n",
            "Epoch 89/200\n",
            "30/30 [==============================] - 6s 202ms/step - loss: 1.7183e-06 - val_loss: 0.0021\n",
            "Epoch 90/200\n",
            "30/30 [==============================] - 6s 208ms/step - loss: 1.6358e-06 - val_loss: 0.0024\n",
            "Epoch 91/200\n",
            "30/30 [==============================] - 6s 202ms/step - loss: 2.2347e-06 - val_loss: 0.0016\n",
            "Epoch 92/200\n",
            "30/30 [==============================] - 6s 195ms/step - loss: 2.2373e-06 - val_loss: 0.0019\n",
            "Epoch 93/200\n",
            "30/30 [==============================] - 6s 204ms/step - loss: 1.8562e-06 - val_loss: 0.0020\n",
            "Epoch 94/200\n",
            "30/30 [==============================] - 6s 201ms/step - loss: 1.5258e-06 - val_loss: 0.0017\n",
            "Epoch 95/200\n",
            "30/30 [==============================] - 6s 196ms/step - loss: 1.6604e-06 - val_loss: 0.0019\n",
            "Epoch 96/200\n",
            "30/30 [==============================] - 6s 205ms/step - loss: 1.6102e-06 - val_loss: 0.0019\n",
            "Epoch 97/200\n",
            "30/30 [==============================] - 6s 202ms/step - loss: 1.7075e-06 - val_loss: 0.0021\n",
            "Epoch 98/200\n",
            "30/30 [==============================] - 6s 207ms/step - loss: 1.5929e-06 - val_loss: 0.0022\n",
            "Epoch 99/200\n",
            "30/30 [==============================] - 6s 199ms/step - loss: 1.6042e-06 - val_loss: 0.0025\n",
            "Epoch 100/200\n",
            "30/30 [==============================] - 6s 201ms/step - loss: 2.2589e-06 - val_loss: 0.0021\n",
            "Epoch 101/200\n",
            "30/30 [==============================] - 6s 199ms/step - loss: 1.8762e-06 - val_loss: 0.0021\n",
            "Epoch 102/200\n",
            "30/30 [==============================] - 6s 209ms/step - loss: 1.6124e-06 - val_loss: 0.0021\n",
            "Epoch 103/200\n",
            "30/30 [==============================] - 6s 205ms/step - loss: 1.4977e-06 - val_loss: 0.0021\n",
            "Epoch 104/200\n",
            "30/30 [==============================] - 6s 206ms/step - loss: 1.7977e-06 - val_loss: 0.0022\n",
            "Epoch 105/200\n",
            "30/30 [==============================] - 6s 204ms/step - loss: 1.7478e-06 - val_loss: 0.0019\n",
            "Epoch 106/200\n",
            "30/30 [==============================] - 6s 201ms/step - loss: 1.7706e-06 - val_loss: 0.0024\n",
            "Epoch 107/200\n",
            "30/30 [==============================] - 6s 198ms/step - loss: 1.9620e-06 - val_loss: 0.0025\n",
            "Epoch 108/200\n",
            "30/30 [==============================] - 6s 209ms/step - loss: 1.7464e-06 - val_loss: 0.0021\n",
            "Epoch 109/200\n",
            "30/30 [==============================] - 6s 210ms/step - loss: 1.4860e-06 - val_loss: 0.0022\n",
            "Epoch 110/200\n",
            "30/30 [==============================] - 6s 202ms/step - loss: 1.6842e-06 - val_loss: 0.0022\n",
            "Epoch 111/200\n",
            "30/30 [==============================] - 6s 214ms/step - loss: 1.8684e-06 - val_loss: 0.0022\n",
            "Epoch 112/200\n",
            "30/30 [==============================] - 6s 193ms/step - loss: 1.6526e-06 - val_loss: 0.0022\n",
            "Epoch 113/200\n",
            "30/30 [==============================] - 6s 199ms/step - loss: 2.0223e-06 - val_loss: 0.0030\n",
            "Epoch 114/200\n",
            "30/30 [==============================] - 6s 195ms/step - loss: 1.9195e-06 - val_loss: 0.0020\n",
            "Epoch 115/200\n",
            "30/30 [==============================] - 6s 196ms/step - loss: 1.6455e-06 - val_loss: 0.0019\n",
            "Epoch 116/200\n",
            "30/30 [==============================] - 6s 205ms/step - loss: 1.5496e-06 - val_loss: 0.0016\n",
            "Epoch 117/200\n",
            "30/30 [==============================] - 6s 196ms/step - loss: 1.8985e-06 - val_loss: 0.0020\n",
            "Epoch 118/200\n",
            "30/30 [==============================] - 6s 199ms/step - loss: 2.1050e-06 - val_loss: 0.0017\n",
            "Epoch 119/200\n",
            "30/30 [==============================] - 6s 204ms/step - loss: 1.8779e-06 - val_loss: 0.0018\n",
            "Epoch 120/200\n",
            "30/30 [==============================] - 6s 211ms/step - loss: 1.7757e-06 - val_loss: 0.0026\n",
            "Epoch 121/200\n",
            "30/30 [==============================] - 6s 214ms/step - loss: 1.6040e-06 - val_loss: 0.0019\n",
            "Epoch 122/200\n",
            "30/30 [==============================] - 6s 205ms/step - loss: 2.0229e-06 - val_loss: 0.0019\n",
            "Epoch 123/200\n",
            "30/30 [==============================] - 6s 192ms/step - loss: 2.1125e-06 - val_loss: 0.0028\n",
            "Epoch 124/200\n",
            "30/30 [==============================] - 6s 205ms/step - loss: 1.7425e-06 - val_loss: 0.0022\n",
            "Epoch 125/200\n",
            "30/30 [==============================] - 6s 197ms/step - loss: 1.5903e-06 - val_loss: 0.0014\n",
            "Epoch 126/200\n",
            "30/30 [==============================] - 6s 197ms/step - loss: 2.0462e-06 - val_loss: 0.0020\n",
            "Epoch 127/200\n",
            "30/30 [==============================] - 6s 199ms/step - loss: 1.6249e-06 - val_loss: 0.0019\n",
            "Epoch 128/200\n",
            "30/30 [==============================] - 6s 207ms/step - loss: 1.5598e-06 - val_loss: 0.0023\n",
            "Epoch 129/200\n",
            "30/30 [==============================] - 6s 200ms/step - loss: 1.6726e-06 - val_loss: 0.0024\n",
            "Epoch 130/200\n",
            "30/30 [==============================] - 6s 196ms/step - loss: 2.0243e-06 - val_loss: 0.0021\n",
            "Epoch 131/200\n",
            "30/30 [==============================] - 6s 212ms/step - loss: 1.8846e-06 - val_loss: 0.0014\n",
            "Epoch 132/200\n",
            "30/30 [==============================] - 6s 194ms/step - loss: 1.9733e-06 - val_loss: 0.0020\n",
            "Epoch 133/200\n",
            "30/30 [==============================] - 6s 199ms/step - loss: 1.7043e-06 - val_loss: 0.0017\n",
            "Epoch 134/200\n",
            "30/30 [==============================] - 6s 200ms/step - loss: 1.8146e-06 - val_loss: 0.0023\n",
            "Epoch 135/200\n",
            "30/30 [==============================] - 6s 205ms/step - loss: 1.9518e-06 - val_loss: 0.0024\n",
            "Epoch 136/200\n",
            "30/30 [==============================] - 6s 196ms/step - loss: 2.0256e-06 - val_loss: 0.0021\n",
            "Epoch 137/200\n",
            "30/30 [==============================] - 6s 199ms/step - loss: 1.6986e-06 - val_loss: 0.0021\n",
            "Epoch 138/200\n",
            "30/30 [==============================] - 6s 195ms/step - loss: 1.8449e-06 - val_loss: 0.0026\n",
            "Epoch 139/200\n",
            "30/30 [==============================] - 6s 202ms/step - loss: 1.9512e-06 - val_loss: 0.0028\n",
            "Epoch 140/200\n",
            "30/30 [==============================] - 6s 202ms/step - loss: 1.9264e-06 - val_loss: 0.0019\n",
            "Epoch 141/200\n",
            "30/30 [==============================] - 6s 208ms/step - loss: 1.7369e-06 - val_loss: 0.0023\n",
            "Epoch 142/200\n",
            "30/30 [==============================] - 6s 193ms/step - loss: 1.6632e-06 - val_loss: 0.0021\n",
            "Epoch 143/200\n",
            "30/30 [==============================] - 6s 203ms/step - loss: 1.6253e-06 - val_loss: 0.0014\n",
            "Epoch 144/200\n",
            "30/30 [==============================] - 6s 201ms/step - loss: 2.0279e-06 - val_loss: 0.0016\n",
            "Epoch 145/200\n",
            "30/30 [==============================] - 6s 199ms/step - loss: 1.7272e-06 - val_loss: 0.0018\n",
            "Epoch 146/200\n",
            "30/30 [==============================] - 6s 195ms/step - loss: 1.7896e-06 - val_loss: 0.0023\n",
            "Epoch 147/200\n",
            "30/30 [==============================] - 6s 207ms/step - loss: 1.6020e-06 - val_loss: 0.0019\n",
            "Epoch 148/200\n",
            "30/30 [==============================] - 6s 207ms/step - loss: 1.5814e-06 - val_loss: 0.0016\n",
            "Epoch 149/200\n",
            "30/30 [==============================] - 6s 199ms/step - loss: 1.5973e-06 - val_loss: 0.0024\n",
            "Epoch 150/200\n",
            "30/30 [==============================] - 6s 201ms/step - loss: 2.1573e-06 - val_loss: 0.0029\n",
            "Epoch 151/200\n",
            "30/30 [==============================] - 9s 299ms/step - loss: 2.0824e-06 - val_loss: 0.0020\n",
            "Epoch 152/200\n",
            "30/30 [==============================] - 8s 263ms/step - loss: 2.0430e-06 - val_loss: 0.0021\n",
            "Epoch 153/200\n",
            "30/30 [==============================] - 6s 205ms/step - loss: 1.7053e-06 - val_loss: 0.0022\n",
            "Epoch 154/200\n",
            "30/30 [==============================] - 6s 199ms/step - loss: 1.5607e-06 - val_loss: 0.0023\n",
            "Epoch 155/200\n",
            "30/30 [==============================] - 6s 202ms/step - loss: 2.1935e-06 - val_loss: 0.0019\n",
            "Epoch 156/200\n",
            "30/30 [==============================] - 6s 213ms/step - loss: 1.8553e-06 - val_loss: 0.0026\n",
            "Epoch 157/200\n",
            "30/30 [==============================] - 6s 201ms/step - loss: 1.7394e-06 - val_loss: 0.0021\n",
            "Epoch 158/200\n",
            "30/30 [==============================] - 6s 198ms/step - loss: 1.9425e-06 - val_loss: 0.0024\n",
            "Epoch 159/200\n",
            "30/30 [==============================] - 6s 207ms/step - loss: 1.6788e-06 - val_loss: 0.0019\n",
            "Epoch 160/200\n",
            "30/30 [==============================] - 6s 205ms/step - loss: 1.6352e-06 - val_loss: 0.0015\n",
            "Epoch 161/200\n",
            "30/30 [==============================] - 6s 194ms/step - loss: 1.9377e-06 - val_loss: 0.0021\n",
            "Epoch 162/200\n",
            "30/30 [==============================] - 6s 199ms/step - loss: 1.9830e-06 - val_loss: 0.0027\n",
            "Epoch 163/200\n",
            "30/30 [==============================] - 6s 198ms/step - loss: 1.5877e-06 - val_loss: 0.0025\n",
            "Epoch 164/200\n",
            "30/30 [==============================] - 6s 206ms/step - loss: 1.6527e-06 - val_loss: 0.0022\n",
            "Epoch 165/200\n",
            "30/30 [==============================] - 6s 202ms/step - loss: 2.2505e-06 - val_loss: 0.0026\n",
            "Epoch 166/200\n",
            "30/30 [==============================] - 6s 203ms/step - loss: 1.6466e-06 - val_loss: 0.0021\n",
            "Epoch 167/200\n",
            "30/30 [==============================] - 6s 193ms/step - loss: 1.5793e-06 - val_loss: 0.0026\n",
            "Epoch 168/200\n",
            "30/30 [==============================] - 6s 200ms/step - loss: 1.5870e-06 - val_loss: 0.0022\n",
            "Epoch 169/200\n",
            "30/30 [==============================] - 6s 203ms/step - loss: 1.7782e-06 - val_loss: 0.0020\n",
            "Epoch 170/200\n",
            "30/30 [==============================] - 6s 200ms/step - loss: 1.5688e-06 - val_loss: 0.0024\n",
            "Epoch 171/200\n",
            "30/30 [==============================] - 6s 212ms/step - loss: 1.5059e-06 - val_loss: 0.0020\n",
            "Epoch 172/200\n",
            "30/30 [==============================] - 6s 198ms/step - loss: 1.5370e-06 - val_loss: 0.0019\n",
            "Epoch 173/200\n",
            "30/30 [==============================] - 6s 194ms/step - loss: 1.6110e-06 - val_loss: 0.0021\n",
            "Epoch 174/200\n",
            "30/30 [==============================] - 6s 201ms/step - loss: 1.7744e-06 - val_loss: 0.0019\n",
            "Epoch 175/200\n",
            "30/30 [==============================] - 6s 195ms/step - loss: 1.7398e-06 - val_loss: 0.0020\n",
            "Epoch 176/200\n",
            "30/30 [==============================] - 6s 195ms/step - loss: 1.6120e-06 - val_loss: 0.0018\n",
            "Epoch 177/200\n",
            "30/30 [==============================] - 6s 203ms/step - loss: 1.7975e-06 - val_loss: 0.0020\n",
            "Epoch 178/200\n",
            "30/30 [==============================] - 6s 196ms/step - loss: 1.8863e-06 - val_loss: 0.0023\n",
            "Epoch 179/200\n",
            "30/30 [==============================] - 6s 203ms/step - loss: 1.6141e-06 - val_loss: 0.0019\n",
            "Epoch 180/200\n",
            "30/30 [==============================] - 6s 199ms/step - loss: 1.5251e-06 - val_loss: 0.0018\n",
            "Epoch 181/200\n",
            "30/30 [==============================] - 6s 211ms/step - loss: 1.6196e-06 - val_loss: 0.0020\n",
            "Epoch 182/200\n",
            "30/30 [==============================] - 6s 208ms/step - loss: 1.5557e-06 - val_loss: 0.0023\n",
            "Epoch 183/200\n",
            "30/30 [==============================] - 6s 193ms/step - loss: 1.6088e-06 - val_loss: 0.0018\n",
            "Epoch 184/200\n",
            "30/30 [==============================] - 6s 202ms/step - loss: 1.7726e-06 - val_loss: 0.0019\n",
            "Epoch 185/200\n",
            "30/30 [==============================] - 6s 204ms/step - loss: 1.5759e-06 - val_loss: 0.0021\n",
            "Epoch 186/200\n",
            "30/30 [==============================] - 6s 199ms/step - loss: 1.6044e-06 - val_loss: 0.0017\n",
            "Epoch 187/200\n",
            "30/30 [==============================] - 6s 205ms/step - loss: 1.6015e-06 - val_loss: 0.0023\n",
            "Epoch 188/200\n",
            "30/30 [==============================] - 6s 207ms/step - loss: 1.9303e-06 - val_loss: 0.0022\n",
            "Epoch 189/200\n",
            "30/30 [==============================] - 6s 205ms/step - loss: 1.8035e-06 - val_loss: 0.0023\n",
            "Epoch 190/200\n",
            "30/30 [==============================] - 6s 199ms/step - loss: 1.7116e-06 - val_loss: 0.0023\n",
            "Epoch 191/200\n",
            "30/30 [==============================] - 6s 208ms/step - loss: 1.9499e-06 - val_loss: 0.0023\n",
            "Epoch 192/200\n",
            "30/30 [==============================] - 6s 193ms/step - loss: 1.5979e-06 - val_loss: 0.0024\n",
            "Epoch 193/200\n",
            "30/30 [==============================] - 6s 198ms/step - loss: 1.9967e-06 - val_loss: 0.0021\n",
            "Epoch 194/200\n",
            "30/30 [==============================] - 6s 206ms/step - loss: 1.6968e-06 - val_loss: 0.0025\n",
            "Epoch 195/200\n",
            "30/30 [==============================] - 6s 200ms/step - loss: 1.7758e-06 - val_loss: 0.0032\n",
            "Epoch 196/200\n",
            "30/30 [==============================] - 6s 206ms/step - loss: 1.9168e-06 - val_loss: 0.0024\n",
            "Epoch 197/200\n",
            "30/30 [==============================] - 6s 208ms/step - loss: 1.5102e-06 - val_loss: 0.0022\n",
            "Epoch 198/200\n",
            "30/30 [==============================] - 6s 207ms/step - loss: 1.5122e-06 - val_loss: 0.0019\n",
            "Epoch 199/200\n",
            "30/30 [==============================] - 6s 199ms/step - loss: 1.7542e-06 - val_loss: 0.0020\n",
            "Epoch 200/200\n",
            "30/30 [==============================] - 6s 207ms/step - loss: 1.5865e-06 - val_loss: 0.0024\n"
          ]
        },
        {
          "output_type": "execute_result",
          "data": {
            "text/plain": [
              "<keras.callbacks.History at 0x7f5036a29a10>"
            ]
          },
          "metadata": {},
          "execution_count": 52
        }
      ]
    },
    {
      "cell_type": "code",
      "source": [
        "train_predict=model.predict(X_train)\n",
        "test_predict=model.predict(X_test)"
      ],
      "metadata": {
        "id": "YBDoSllIm_tF"
      },
      "execution_count": 53,
      "outputs": []
    },
    {
      "cell_type": "code",
      "source": [
        "train_predict = scaler.inverse_transform(train_predict)\n",
        "test_predict = scaler.inverse_transform(test_predict)"
      ],
      "metadata": {
        "id": "BwLr3hkApd6R"
      },
      "execution_count": 54,
      "outputs": []
    },
    {
      "cell_type": "code",
      "source": [
        "test_predict[:10]"
      ],
      "metadata": {
        "colab": {
          "base_uri": "https://localhost:8080/"
        },
        "id": "eSuEhuPHy093",
        "outputId": "296f107f-5514-4be9-ee28-974c69b46ed9"
      },
      "execution_count": 61,
      "outputs": [
        {
          "output_type": "execute_result",
          "data": {
            "text/plain": [
              "array([[54.56174 ],\n",
              "       [52.97646 ],\n",
              "       [52.262043],\n",
              "       [52.555958],\n",
              "       [59.455147],\n",
              "       [57.891003],\n",
              "       [63.369705],\n",
              "       [66.328926],\n",
              "       [66.96313 ],\n",
              "       [65.87569 ]], dtype=float32)"
            ]
          },
          "metadata": {},
          "execution_count": 61
        }
      ]
    },
    {
      "cell_type": "code",
      "source": [
        "import math\n",
        "from sklearn.metrics import mean_squared_error,r2_score\n",
        "math.sqrt(mean_squared_error(y_train,train_predict))"
      ],
      "metadata": {
        "colab": {
          "base_uri": "https://localhost:8080/"
        },
        "id": "g3D7pR1Rpt-l",
        "outputId": "534f7dda-04f8-4e74-d71f-348c22c73416"
      },
      "execution_count": 55,
      "outputs": [
        {
          "output_type": "execute_result",
          "data": {
            "text/plain": [
              "40.506728005791345"
            ]
          },
          "metadata": {},
          "execution_count": 55
        }
      ]
    },
    {
      "cell_type": "code",
      "source": [
        "math.sqrt(mean_squared_error(y_test,test_predict))"
      ],
      "metadata": {
        "colab": {
          "base_uri": "https://localhost:8080/"
        },
        "id": "-B1031r_q-Q_",
        "outputId": "41034f01-4a8a-4158-9685-c6127a052554"
      },
      "execution_count": 56,
      "outputs": [
        {
          "output_type": "execute_result",
          "data": {
            "text/plain": [
              "374.44898155010367"
            ]
          },
          "metadata": {},
          "execution_count": 56
        }
      ]
    },
    {
      "cell_type": "code",
      "source": [
        "r2_score(y_test,test_predict)"
      ],
      "metadata": {
        "colab": {
          "base_uri": "https://localhost:8080/"
        },
        "id": "HjLhJWKIrEcJ",
        "outputId": "7334c8d9-a6d9-469d-c58a-57eae46788d8"
      },
      "execution_count": 57,
      "outputs": [
        {
          "output_type": "execute_result",
          "data": {
            "text/plain": [
              "-1386053.113035819"
            ]
          },
          "metadata": {},
          "execution_count": 57
        }
      ]
    },
    {
      "cell_type": "code",
      "source": [
        ""
      ],
      "metadata": {
        "id": "gSNaB941rh7D"
      },
      "execution_count": 57,
      "outputs": []
    }
  ]
}